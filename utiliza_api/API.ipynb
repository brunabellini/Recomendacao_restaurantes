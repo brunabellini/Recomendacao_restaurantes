{
 "cells": [
  {
   "attachments": {},
   "cell_type": "markdown",
   "metadata": {},
   "source": [
    "# API"
   ]
  },
  {
   "cell_type": "code",
   "execution_count": 6,
   "metadata": {},
   "outputs": [],
   "source": [
    "# Consumindo banco de dados e trasnformando tabelas em Pandas Dataframes\n",
    "strSQL_Estabelecimento =\"SELECT * from  Estabelecimento\"\n",
    "strSQL_Avaliacoes =\"SELECT * from  Avaliações\"\n",
    "strSQL_FuncionamentoDias =\"SELECT * from  FuncionamentoDias\"\n",
    "strSQL_FuncionamentoHorarios =\"SELECT * from  FuncionamentoHorarios\"\n",
    "strSQL_Localizacao =\"SELECT * from  Localizacao\"\n",
    "strSQL_PolaridadeMedia =\"SELECT * from  PolaridadeMedia\"\n",
    "strSQL_PrincipaisPalavras =\"SELECT * from  PrincipaisPalavras\"\n",
    "strSQL_Servico =\"SELECT * from  Servico\"\n",
    "\n",
    "df = pd.read_sql(strSQL_Estabelecimento, con)\n",
    "dfava = pd.read_sql(strSQL_Avaliacoes, con)\n",
    "dfdias = pd.read_sql(strSQL_FuncionamentoDias, con)\n",
    "dfhorario = pd.read_sql(strSQL_FuncionamentoHorarios, con)\n",
    "dflocal = pd.read_sql(strSQL_Localizacao, con)\n",
    "dfpolmedia = pd.read_sql(strSQL_PolaridadeMedia, con)\n",
    "dfprincipais = pd.read_sql(strSQL_PrincipaisPalavras, con)\n",
    "dfserv= pd.read_sql(strSQL_Servico, con)"
   ]
  },
  {
   "cell_type": "code",
   "execution_count": 7,
   "metadata": {},
   "outputs": [
    {
     "name": "stdout",
     "output_type": "stream",
     "text": [
      " * Serving Flask app '__main__'\n",
      " * Debug mode: off\n"
     ]
    },
    {
     "name": "stderr",
     "output_type": "stream",
     "text": [
      "WARNING: This is a development server. Do not use it in a production deployment. Use a production WSGI server instead.\n",
      " * Running on all addresses (0.0.0.0)\n",
      " * Running on http://127.0.0.1:2100\n",
      " * Running on http://192.168.100.66:2100\n",
      "Press CTRL+C to quit\n",
      "127.0.0.1 - - [23/Apr/2023 22:07:34] \"GET /principaispalavras?nome=quilinho HTTP/1.1\" 200 -\n",
      "127.0.0.1 - - [23/Apr/2023 22:07:42] \"GET /principaispalavras?nome=Ó%20Nois%20Lounge%20Bar HTTP/1.1\" 200 -\n",
      "127.0.0.1 - - [23/Apr/2023 22:08:08] \"GET /estabelecimento?nome=Ó%20Nois%20Lounge%20Bar HTTP/1.1\" 200 -\n"
     ]
    }
   ],
   "source": [
    "# Remove the print statement\n",
    "# print(df.to_json(orient=\"records\"))\n",
    "\n",
    "app = Flask(__name__)\n",
    "\n",
    "# Add a route to return the entire df as JSON\n",
    "@app.route(\"/\", methods=['GET'])\n",
    "def get_csv():\n",
    "    return Response(df.to_json(orient=\"records\"), mimetype='application/json')\n",
    "\n",
    "# Fix the function name to match the endpoint URL\n",
    "@app.route(\"/estabelecimento\", methods=['GET'])\n",
    "def get_estabelecimento():\n",
    "    # Convert the input parameter to string and uppercase\n",
    "    nome = str(request.args.get('nome')).upper()\n",
    "    cod = str(request.args.get('cod')).upper()\n",
    "    \n",
    "    if nome != 'NONE':\n",
    "        prod = df.loc[df['Nome'].str.upper() == nome]\n",
    "    else:\n",
    "        prod = df.loc[df['ID'].str.upper() == cod]\n",
    "    return Response(prod.to_json(orient=\"records\"), mimetype='application/json')\n",
    "\n",
    "# Fix the function name to match the endpoint URL\n",
    "@app.route(\"/avaliacoes\", methods=['GET'])\n",
    "def get_avaliacoes():\n",
    "    # Convert the input parameter to string and uppercase\n",
    "    cod = str(request.args.get('cod')).upper()\n",
    "    prod = dfava.loc[dfava['idEstabelecimento'].str.upper() == cod]\n",
    "    return Response(prod.to_json(orient=\"records\"), mimetype='application/json')\n",
    "\n",
    "# Fix the function name to match the endpoint URL\n",
    "@app.route(\"/diasfuncionamento\", methods=['GET'])\n",
    "def get_dasfuncionamento():\n",
    "    # Convert the input parameter to string and uppercase\n",
    "    cod = str(request.args.get('cod')).upper()\n",
    "    prod = dfdias.loc[dfdias['idEstabelecimento'].str.upper() == cod]\n",
    "    return Response(prod.to_json(orient=\"records\"), mimetype='application/json')\n",
    "\n",
    "# Fix the function name to match the endpoint URL\n",
    "@app.route(\"/horarios\", methods=['GET'])\n",
    "def get_horarios():\n",
    "    # Convert the input parameter to string and uppercase\n",
    "    cod = str(request.args.get('cod')).upper()\n",
    "    prod = dfhorario.loc[dfhorario['idEstabelecimento'].str.upper() == cod]\n",
    "    return Response(prod.to_json(orient=\"records\"), mimetype='application/json')\n",
    "\n",
    "# Fix the function name to match the endpoint URL\n",
    "@app.route(\"/localizacao\", methods=['GET'])\n",
    "def get_localizacao():\n",
    "    # Convert the input parameter to string and uppercase\n",
    "    cod = str(request.args.get('cod')).upper()\n",
    "    prod = dflocal.loc[dflocal['idEstabelecimento'].str.upper() == cod]\n",
    "    return Response(prod.to_json(orient=\"records\"), mimetype='application/json')\n",
    "\n",
    "# Fix the function name to match the endpoint URL\n",
    "@app.route(\"/polaridade\", methods=['GET'])\n",
    "def get_polaridade():\n",
    "    # Convert the input parameter to string and uppercase\n",
    "    cod = str(request.args.get('cod')).upper()\n",
    "    prod = dfpolmedia.loc[dfpolmedia['idEstabelecimento'].str.upper() == cod]\n",
    "    return Response(prod.to_json(orient=\"records\"), mimetype='application/json')\n",
    "\n",
    "# Fix the function name to match the endpoint URL\n",
    "@app.route(\"/principaispalavras\", methods=['GET'])\n",
    "def get_principaispalavras():\n",
    "    # Convert the input parameter to string and uppercase\n",
    "    nome = str(request.args.get('nome')).upper()\n",
    "    cod = str(request.args.get('cod')).upper()\n",
    "    if nome != 'NONE':\n",
    "        prod = dfprincipais.loc[dfprincipais['nomeEstabelecimento'].str.upper() == str(nome).upper()]\n",
    "    else:\n",
    "        prod = dfprincipais.loc[dfprincipais['nomeEstabelecimento'].str.upper() == cod]\n",
    "\n",
    "    return Response(prod.to_json(orient=\"records\"), mimetype='application/json')\n",
    "\n",
    "# Fix the function name to match the endpoint URL\n",
    "@app.route(\"/servico\", methods=['GET'])\n",
    "def get_servico():\n",
    "    # Convert the input parameter to string and uppercase\n",
    "    cod = str(request.args.get('cod')).upper()\n",
    "    prod = dfserv.loc[dfserv['idEstabelecimento'].str.upper() == cod]\n",
    "    return Response(prod.to_json(orient=\"records\"), mimetype='application/json')\n",
    "\n",
    "\n",
    "if __name__ == \"__main__\":\n",
    "    # Change the port number to avx oid conflicts\n",
    "    app.run(host=os.getenv('IP', '0.0.0.0'), port=int(os.getenv('PORT', 2100)))"
   ]
  }
 ],
 "metadata": {
  "interpreter": {
   "hash": "916dbcbb3f70747c44a77c7bcd40155683ae19c65e1c03b4aa3499c5328201f1"
  },
  "kernelspec": {
   "display_name": "Python 3",
   "language": "python",
   "name": "python3"
  },
  "language_info": {
   "codemirror_mode": {
    "name": "ipython",
    "version": 3
   },
   "file_extension": ".py",
   "mimetype": "text/x-python",
   "name": "python",
   "nbconvert_exporter": "python",
   "pygments_lexer": "ipython3",
   "version": "3.8.10"
  }
 },
 "nbformat": 4,
 "nbformat_minor": 2
}
