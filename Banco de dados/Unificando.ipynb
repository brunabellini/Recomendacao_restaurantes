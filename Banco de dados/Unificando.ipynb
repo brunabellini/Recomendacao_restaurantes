{
  "cells": [
    {
      "attachments": {},
      "cell_type": "markdown",
      "metadata": {},
      "source": [
        "# Bibliotecas"
      ]
    },
    {
      "cell_type": "code",
      "execution_count": 1,
      "metadata": {
        "id": "qz4BcO7VcvEX"
      },
      "outputs": [],
      "source": [
        "import pandas as pd\n",
        "import re"
      ]
    },
    {
      "attachments": {},
      "cell_type": "markdown",
      "metadata": {},
      "source": [
        "# Funções"
      ]
    },
    {
      "cell_type": "code",
      "execution_count": null,
      "metadata": {},
      "outputs": [],
      "source": [
        "def inicio_fim_to_hm(df):\n",
        "  '''\n",
        "  recebe um daframe com os horarios de funcionamento de cada dia e centraliza em apenas suas colunas o horario de abertura/fechamento.\n",
        "  O dia escolhido para representar o horario de funcionamento majoritário é o primeiro que não estja fechado\n",
        "  de acorodo com a ordem da lista 'dias_da_semana' (quase todos os restaurantes utilizam a sexta)\n",
        "  '''\n",
        "  for index, row in df.iterrows():\n",
        "    inicio = str(float(row['inicio'])).split('.')\n",
        "    fim = str(float(row['fim'])).split('.')\n",
        "    try:\n",
        "      df.loc[index, 'inicio'] = inicio[0]+ ':' + str(int(int(inicio[1])*6))[:2]\n",
        "      df.loc[index, 'fim'] = fim[0]+ ':' + str(int(int(fim[1])*6))[:2]\n",
        "    except:\n",
        "      pass\n",
        "  return df"
      ]
    },
    {
      "attachments": {},
      "cell_type": "markdown",
      "metadata": {
        "id": "6JqE14kEd22j"
      },
      "source": [
        "# Todos os Restaurantes"
      ]
    },
    {
      "cell_type": "code",
      "execution_count": null,
      "metadata": {},
      "outputs": [],
      "source": [
        "path='./'"
      ]
    },
    {
      "cell_type": "code",
      "execution_count": 3,
      "metadata": {
        "id": "k7tZI4gjcxT1"
      },
      "outputs": [],
      "source": [
        "df_overview = pd.read_csv(path+'df_geral_db.csv')"
      ]
    },
    {
      "cell_type": "code",
      "execution_count": 5,
      "metadata": {
        "colab": {
          "base_uri": "https://localhost:8080/"
        },
        "id": "KPRG9UeuJQaj",
        "outputId": "a09a4c91-3e5e-4b9e-9b76-be1e42a98211"
      },
      "outputs": [
        {
          "name": "stderr",
          "output_type": "stream",
          "text": [
            "/tmp/ipykernel_23817/2631320678.py:2: SettingWithCopyWarning: \n",
            "A value is trying to be set on a copy of a slice from a DataFrame\n",
            "\n",
            "See the caveats in the documentation: https://pandas.pydata.org/pandas-docs/stable/user_guide/indexing.html#returning-a-view-versus-a-copy\n",
            "  df_estabelecimento.rename(columns={\n"
          ]
        }
      ],
      "source": [
        "df_estabelecimento = df_overview[['title', 'place_id', 'Cluster', 'rating', 'reviews', 'price', 'type', 'thumbnail']]\n",
        "df_estabelecimento.rename(columns={\n",
        "    'title': 'Nome',\n",
        "    'place_id': 'ID',\n",
        "    'rating': 'NotaMedia',\n",
        "    'reviews': 'QntdAvaliaçoes',\n",
        "    'price': 'FaixaPreço',\n",
        "    'type': 'Categoria',\n",
        "    'thumbnail': 'Thumbnail'\n",
        "}, inplace=True)\n",
        "\n",
        "df_estabelecimento.to_csv(path+\"Estabelecimento.csv\", index=False)"
      ]
    },
    {
      "cell_type": "code",
      "execution_count": 6,
      "metadata": {
        "colab": {
          "base_uri": "https://localhost:8080/"
        },
        "id": "68XP5TtAMsqs",
        "outputId": "b35b5c8c-480d-45ff-a518-55cf5fd1a15f"
      },
      "outputs": [
        {
          "name": "stderr",
          "output_type": "stream",
          "text": [
            "/tmp/ipykernel_23817/1307574895.py:3: SettingWithCopyWarning: \n",
            "A value is trying to be set on a copy of a slice from a DataFrame\n",
            "\n",
            "See the caveats in the documentation: https://pandas.pydata.org/pandas-docs/stable/user_guide/indexing.html#returning-a-view-versus-a-copy\n",
            "  df_localizacao.rename(columns={\n"
          ]
        }
      ],
      "source": [
        "df_localizacao = df_overview[['place_id', 'ZonaSP',\n",
        "       'address', 'latitude', 'longitude']]\n",
        "df_localizacao.rename(columns={\n",
        "    'place_id': 'Estabelecimento_ID',\n",
        "    'address': 'Endereço',\n",
        "    'latitude': 'Latitude',\n",
        "    'longitude': 'Longitude'\n",
        "}, inplace=True)\n",
        "\n",
        "df_localizacao.to_csv(path+\"Localizacao.csv\", index=False)"
      ]
    },
    {
      "cell_type": "code",
      "execution_count": 7,
      "metadata": {
        "colab": {
          "base_uri": "https://localhost:8080/"
        },
        "id": "mY4fofBdNRoI",
        "outputId": "d4585136-adfd-4ce5-c881-61fb62faac25"
      },
      "outputs": [
        {
          "name": "stderr",
          "output_type": "stream",
          "text": [
            "/tmp/ipykernel_23817/2435440562.py:2: SettingWithCopyWarning: \n",
            "A value is trying to be set on a copy of a slice from a DataFrame\n",
            "\n",
            "See the caveats in the documentation: https://pandas.pydata.org/pandas-docs/stable/user_guide/indexing.html#returning-a-view-versus-a-copy\n",
            "  df_funcionamentoHorarios.rename(columns={\n"
          ]
        }
      ],
      "source": [
        "df_funcionamentoHorarios = df_overview[['place_id', 'inicio', 'fim', 'madrugada', 'manha', 'tarde', 'noite', 'inicio_periodo', 'fim_periodo']]\n",
        "df_funcionamentoHorarios.rename(columns={\n",
        "    'place_id': 'Estabelecimento_ID'\n",
        "}, inplace=True)\n",
        "\n",
        "df_funcionamentoHorarios = inicio_fim_to_hm(df_funcionamentoHorarios)\n",
        "\n",
        "df_funcionamentoHorarios.to_csv(path+\"FuncionamentoHorarios.csv\", index=False)"
      ]
    },
    {
      "cell_type": "code",
      "execution_count": 8,
      "metadata": {
        "colab": {
          "base_uri": "https://localhost:8080/"
        },
        "id": "Dv9gTBgYObLZ",
        "outputId": "cdfd657c-98cf-4832-b38c-fde0123e4981"
      },
      "outputs": [
        {
          "name": "stderr",
          "output_type": "stream",
          "text": [
            "/tmp/ipykernel_23817/3993836554.py:2: SettingWithCopyWarning: \n",
            "A value is trying to be set on a copy of a slice from a DataFrame\n",
            "\n",
            "See the caveats in the documentation: https://pandas.pydata.org/pandas-docs/stable/user_guide/indexing.html#returning-a-view-versus-a-copy\n",
            "  df_funcionamentoDias.rename(columns={\n"
          ]
        }
      ],
      "source": [
        "df_funcionamentoDias = df_overview[['place_id', 'sunday', 'monday', 'tuesday', 'wednesday', 'thursday', 'friday', 'saturday', 'aberto_dia_util(%)', 'aberto_final_de_semana(%)']]\n",
        "df_funcionamentoDias.rename(columns={\n",
        "    'place_id': 'Estabelecimento_ID',\n",
        "    'aberto_dia_util(%)': 'aberto_dia_util',\n",
        "    'aberto_final_de_semana(%)': 'aberto_final_de_semana'\n",
        "}, inplace=True)\n",
        "\n",
        "df_funcionamentoDias.to_csv(path+\"FuncionamentoDias.csv\", index=False)"
      ]
    },
    {
      "cell_type": "code",
      "execution_count": 10,
      "metadata": {
        "colab": {
          "base_uri": "https://localhost:8080/"
        },
        "id": "hbT6Xx0zO2Dl",
        "outputId": "e9da68aa-ea40-4a11-b268-a9e3b1c51714"
      },
      "outputs": [
        {
          "name": "stderr",
          "output_type": "stream",
          "text": [
            "/tmp/ipykernel_23817/2633368291.py:2: SettingWithCopyWarning: \n",
            "A value is trying to be set on a copy of a slice from a DataFrame\n",
            "\n",
            "See the caveats in the documentation: https://pandas.pydata.org/pandas-docs/stable/user_guide/indexing.html#returning-a-view-versus-a-copy\n",
            "  df_servico.rename(columns={\n"
          ]
        }
      ],
      "source": [
        "df_servico = df_overview[['place_id', 'dine_in', 'takeout', 'delivery', 'drive_through']]\n",
        "df_servico.rename(columns={\n",
        "    'place_id': 'Estabelecimento_ID'\n",
        "}, inplace=True)\n",
        "\n",
        "df_servico.to_csv(path+\"Servico.csv\", index=False)"
      ]
    },
    {
      "cell_type": "markdown",
      "metadata": {
        "id": "Se2moOYNd5f7"
      },
      "source": [
        "# Apenas restaurantes com Reviews"
      ]
    },
    {
      "cell_type": "code",
      "execution_count": 11,
      "metadata": {
        "colab": {
          "base_uri": "https://localhost:8080/",
          "height": 337
        },
        "id": "6GPFKIBidPV-",
        "outputId": "4f01472e-341f-40ec-a2c1-8102c62fe016"
      },
      "outputs": [
        {
          "data": {
            "text/html": [
              "<div>\n",
              "<style scoped>\n",
              "    .dataframe tbody tr th:only-of-type {\n",
              "        vertical-align: middle;\n",
              "    }\n",
              "\n",
              "    .dataframe tbody tr th {\n",
              "        vertical-align: top;\n",
              "    }\n",
              "\n",
              "    .dataframe thead th {\n",
              "        text-align: right;\n",
              "    }\n",
              "</style>\n",
              "<table border=\"1\" class=\"dataframe\">\n",
              "  <thead>\n",
              "    <tr style=\"text-align: right;\">\n",
              "      <th></th>\n",
              "      <th>review_id</th>\n",
              "      <th>title</th>\n",
              "      <th>place_id_x</th>\n",
              "      <th>rating</th>\n",
              "      <th>date</th>\n",
              "      <th>comentario</th>\n",
              "      <th>polaridade</th>\n",
              "      <th>place_id_y</th>\n",
              "      <th>polaridade_texto</th>\n",
              "    </tr>\n",
              "  </thead>\n",
              "  <tbody>\n",
              "    <tr>\n",
              "      <th>0</th>\n",
              "      <td>0</td>\n",
              "      <td>Por um Punhado de Dólares</td>\n",
              "      <td>ChIJ08g_akxYzpQR0RO2V9l10wA</td>\n",
              "      <td>5</td>\n",
              "      <td>a month ago</td>\n",
              "      <td>Very chill and hipster, cool place! Came here ...</td>\n",
              "      <td>0.510648</td>\n",
              "      <td>ChIJ08g_akxYzpQR0RO2V9l10wA</td>\n",
              "      <td>Positivo</td>\n",
              "    </tr>\n",
              "    <tr>\n",
              "      <th>1</th>\n",
              "      <td>1</td>\n",
              "      <td>Por um Punhado de Dólares</td>\n",
              "      <td>ChIJ08g_akxYzpQR0RO2V9l10wA</td>\n",
              "      <td>5</td>\n",
              "      <td>3 months ago</td>\n",
              "      <td>Superb coffee shop in São Paulo, easily one of...</td>\n",
              "      <td>0.257292</td>\n",
              "      <td>ChIJ08g_akxYzpQR0RO2V9l10wA</td>\n",
              "      <td>Positivo</td>\n",
              "    </tr>\n",
              "    <tr>\n",
              "      <th>2</th>\n",
              "      <td>2</td>\n",
              "      <td>Por um Punhado de Dólares</td>\n",
              "      <td>ChIJ08g_akxYzpQR0RO2V9l10wA</td>\n",
              "      <td>5</td>\n",
              "      <td>9 months ago</td>\n",
              "      <td>Really cool atmosphere plus good cakes and cof...</td>\n",
              "      <td>0.258333</td>\n",
              "      <td>ChIJ08g_akxYzpQR0RO2V9l10wA</td>\n",
              "      <td>Positivo</td>\n",
              "    </tr>\n",
              "    <tr>\n",
              "      <th>3</th>\n",
              "      <td>3</td>\n",
              "      <td>Por um Punhado de Dólares</td>\n",
              "      <td>ChIJ08g_akxYzpQR0RO2V9l10wA</td>\n",
              "      <td>5</td>\n",
              "      <td>a month ago</td>\n",
              "      <td>Super nice cafe !\\nDelicious coffee and sandwi...</td>\n",
              "      <td>0.694444</td>\n",
              "      <td>ChIJ08g_akxYzpQR0RO2V9l10wA</td>\n",
              "      <td>Positivo</td>\n",
              "    </tr>\n",
              "    <tr>\n",
              "      <th>4</th>\n",
              "      <td>4</td>\n",
              "      <td>Por um Punhado de Dólares</td>\n",
              "      <td>ChIJ08g_akxYzpQR0RO2V9l10wA</td>\n",
              "      <td>5</td>\n",
              "      <td>4 years ago</td>\n",
              "      <td>Super enjoyed this place! We came in passing w...</td>\n",
              "      <td>0.530889</td>\n",
              "      <td>ChIJ08g_akxYzpQR0RO2V9l10wA</td>\n",
              "      <td>Positivo</td>\n",
              "    </tr>\n",
              "  </tbody>\n",
              "</table>\n",
              "</div>"
            ],
            "text/plain": [
              "   review_id                      title                   place_id_x  rating  \\\n",
              "0          0  Por um Punhado de Dólares  ChIJ08g_akxYzpQR0RO2V9l10wA       5   \n",
              "1          1  Por um Punhado de Dólares  ChIJ08g_akxYzpQR0RO2V9l10wA       5   \n",
              "2          2  Por um Punhado de Dólares  ChIJ08g_akxYzpQR0RO2V9l10wA       5   \n",
              "3          3  Por um Punhado de Dólares  ChIJ08g_akxYzpQR0RO2V9l10wA       5   \n",
              "4          4  Por um Punhado de Dólares  ChIJ08g_akxYzpQR0RO2V9l10wA       5   \n",
              "\n",
              "           date                                         comentario  \\\n",
              "0   a month ago  Very chill and hipster, cool place! Came here ...   \n",
              "1  3 months ago  Superb coffee shop in São Paulo, easily one of...   \n",
              "2  9 months ago  Really cool atmosphere plus good cakes and cof...   \n",
              "3   a month ago  Super nice cafe !\\nDelicious coffee and sandwi...   \n",
              "4   4 years ago  Super enjoyed this place! We came in passing w...   \n",
              "\n",
              "   polaridade                   place_id_y polaridade_texto  \n",
              "0    0.510648  ChIJ08g_akxYzpQR0RO2V9l10wA         Positivo  \n",
              "1    0.257292  ChIJ08g_akxYzpQR0RO2V9l10wA         Positivo  \n",
              "2    0.258333  ChIJ08g_akxYzpQR0RO2V9l10wA         Positivo  \n",
              "3    0.694444  ChIJ08g_akxYzpQR0RO2V9l10wA         Positivo  \n",
              "4    0.530889  ChIJ08g_akxYzpQR0RO2V9l10wA         Positivo  "
            ]
          },
          "execution_count": 11,
          "metadata": {},
          "output_type": "execute_result"
        }
      ],
      "source": [
        "most_relevant_reviews = pd.read_csv(path+'most_relevant_reviews.csv',\n",
        "                                    usecols=['title', 'place_id', 'rating', 'date'])\n",
        "most_relevant_reviews = most_relevant_reviews.reset_index().rename(columns={'index': 'review_id'})\n",
        "\n",
        "most_relevant_reviews_translated = pd.read_csv(path+'restaurant_polaridade.csv',\n",
        "                                               usecols=['place_id', 'comentario', 'polaridade',\n",
        "                                                        'polaridade_texto', 'review_id'])\n",
        "most_relevant_reviews = most_relevant_reviews.merge(most_relevant_reviews_translated, on=['review_id'],\n",
        "                                                    how='left')\n",
        "\n",
        "\n",
        "most_relevant_reviews.head()"
      ]
    },
    {
      "cell_type": "code",
      "execution_count": 12,
      "metadata": {
        "id": "cIpHh0Wrl9kg"
      },
      "outputs": [],
      "source": [
        "most_relevant_reviews.rename(columns={\n",
        "'review_id': 'ID', 'place_id_x': 'idEstabelecimento', 'rating': 'Nota', 'date': 'Data', \n",
        "'comentario': 'Texto',\n",
        "       'polaridade': 'PolaridadeValor', \n",
        "'polaridade_texto': 'PolaridadeTexto'\n",
        "}, inplace=True)\n",
        "\n",
        "most_relevant_reviews.columns\n",
        "\n",
        "most_relevant_reviews = most_relevant_reviews[['ID', 'idEstabelecimento', 'Nota', 'Data', 'Texto',\n",
        "       'PolaridadeValor', 'PolaridadeTexto']]"
      ]
    },
    {
      "cell_type": "code",
      "execution_count": 13,
      "metadata": {
        "id": "9o2_YXuurLFh"
      },
      "outputs": [],
      "source": [
        "most_relevant_reviews.to_csv(path+\"Avaliacoes.csv\", index=False)"
      ]
    },
    {
      "cell_type": "code",
      "execution_count": 14,
      "metadata": {
        "id": "JUnK7WYDeVZ1"
      },
      "outputs": [],
      "source": [
        "restaurant_word_freq = pd.read_csv('restaurant_word_freq.csv')\n",
        "restaurant_word_freq.rename(columns={'palavra': 'Palavra', 'frequencia': 'Frequencia', 'restaurante': 'Estabelecimento_Nome'}, inplace=True)\n",
        "restaurant_word_freq = restaurant_word_freq.reset_index()\n",
        "restaurant_word_freq.rename(columns={'index': 'ID'}, inplace=True)\n",
        "restaurant_word_freq.to_csv(path+\"PrincipaisPalavras.csv\", index=False)"
      ]
    },
    {
      "cell_type": "code",
      "execution_count": 15,
      "metadata": {
        "id": "2gnxmNnzeZvG"
      },
      "outputs": [],
      "source": [
        "restaurant_polaridade_media = pd.read_csv(path+'restaurant_polaridade_media.csv')\n",
        "restaurant_polaridade_media.rename(columns={\n",
        "    'place_id': 'Estabelecimento_ID',\n",
        "    'polaridade_texto': 'PolaridadeTexto',\n",
        "    'polaridade': 'PolaridadeValor'\n",
        "}, inplace=True)\n",
        "restaurant_polaridade_media = restaurant_polaridade_media[['Estabelecimento_ID', 'PolaridadeTexto', 'PolaridadeValor', 'ResumoTexto']]\n",
        "restaurant_polaridade_media\n",
        "restaurant_polaridade_media.to_csv(path+\"PolaridadeMedia.csv\", index=False)"
      ]
    }
  ],
  "metadata": {
    "colab": {
      "provenance": []
    },
    "kernelspec": {
      "display_name": "Python 3",
      "name": "python3"
    },
    "language_info": {
      "codemirror_mode": {
        "name": "ipython",
        "version": 3
      },
      "file_extension": ".py",
      "mimetype": "text/x-python",
      "name": "python",
      "nbconvert_exporter": "python",
      "pygments_lexer": "ipython3",
      "version": "3.8.10"
    }
  },
  "nbformat": 4,
  "nbformat_minor": 0
}
